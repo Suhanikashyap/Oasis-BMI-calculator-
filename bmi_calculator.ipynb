{
  "nbformat": 4,
  "nbformat_minor": 0,
  "metadata": {
    "colab": {
      "provenance": [],
      "authorship_tag": "ABX9TyNx7ZLt2ir6csSBYtXXTu3h",
      "include_colab_link": true
    },
    "kernelspec": {
      "name": "python3",
      "display_name": "Python 3"
    },
    "language_info": {
      "name": "python"
    }
  },
  "cells": [
    {
      "cell_type": "markdown",
      "metadata": {
        "id": "view-in-github",
        "colab_type": "text"
      },
      "source": [
        "<a href=\"https://colab.research.google.com/github/Suhanikashyap/Oasis-BMI-calculator-/blob/main/bmi_calculator.ipynb\" target=\"_parent\"><img src=\"https://colab.research.google.com/assets/colab-badge.svg\" alt=\"Open In Colab\"/></a>"
      ]
    },
    {
      "cell_type": "code",
      "execution_count": 2,
      "metadata": {
        "colab": {
          "base_uri": "https://localhost:8080/"
        },
        "id": "8fxycfmMwifj",
        "outputId": "27d9577b-e27c-41d8-e1e7-7fd6316bda8a"
      },
      "outputs": [
        {
          "output_type": "stream",
          "name": "stdout",
          "text": [
            "enter your height in cm : 156\n",
            "enter your weight in kg : 52\n",
            "your BMI is  21.367521367521366\n",
            "you are healthy \n"
          ]
        }
      ],
      "source": [
        "a= float (input(\"enter your height in cm : \" ))\n",
        "b= float (input (\"enter your weight in kg : \"))\n",
        "a=a/100\n",
        "BMI=b/(a*a)\n",
        "print(\"your BMI is \",BMI)\n",
        "if (BMI <=16):\n",
        " print (\"you are severely underweight \")\n",
        "elif (BMI <=18.5):\n",
        " print(\"you are underweight\")\n",
        "elif (BMI <=25):\n",
        " print(\"you are healthy \")\n",
        "elif(BMI <= 30):\n",
        " print(\"you are overweight \")\n",
        "else :\n",
        " print (\"you are several overweight \")"
      ]
    }
  ]
}